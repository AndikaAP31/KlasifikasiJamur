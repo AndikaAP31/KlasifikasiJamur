{
 "cells": [
  {
   "cell_type": "code",
   "execution_count": 3,
   "id": "5364626e-14dc-481a-aa5b-af833373fda2",
   "metadata": {},
   "outputs": [],
   "source": [
    "import os\n",
    "import numpy as np\n",
    "import cv2\n",
    "from sklearn import svm\n",
    "from sklearn.model_selection import train_test_split, GridSearchCV\n",
    "from sklearn.preprocessing import LabelEncoder, StandardScaler\n",
    "from sklearn.metrics import accuracy_score, classification_report, confusion_matrix\n",
    "import matplotlib.pyplot as plt\n",
    "import seaborn as sns\n",
    "from skimage.feature import graycomatrix, graycoprops, hog\n",
    "from skimage.color import rgb2gray\n",
    "import time\n",
    "from sklearn.decomposition import PCA\n",
    "import time\n",
    "from sklearn import svm\n",
    "from sklearn.model_selection import GridSearchCV\n",
    "import joblib"
   ]
  },
  {
   "cell_type": "code",
   "execution_count": 4,
   "id": "9c5aba3b",
   "metadata": {},
   "outputs": [],
   "source": [
    "def extract_histogram(img, bins=(8, 8, 8)):\n",
    "    # Ekstrak histogram warna RGB dari gambar\n",
    "    hist = cv2.calcHist([img], [0, 1, 2], None, bins,\n",
    "                        [0, 256, 0, 256, 0, 256])\n",
    "    # Normalisasi histogram agar nilai antara 0-1\n",
    "    cv2.normalize(hist, hist)\n",
    "    # Kembalikan histogram sebagai array 1D\n",
    "    return hist.flatten()"
   ]
  },
  {
   "cell_type": "code",
   "execution_count": 5,
   "id": "d5a22f80",
   "metadata": {},
   "outputs": [],
   "source": [
    "def extract_glcm(img):\n",
    "    gray = cv2.cvtColor(img, cv2.COLOR_BGR2GRAY)\n",
    "    glcm = graycomatrix(gray, distances=[1], angles=[0], levels=256, symmetric=True, normed=True)\n",
    "    features = []\n",
    "    for prop in ['contrast', 'dissimilarity', 'homogeneity', 'energy', 'correlation', 'ASM']:\n",
    "        features.append(graycoprops(glcm, prop)[0, 0])\n",
    "    return np.array(features)"
   ]
  },
  {
   "cell_type": "code",
   "execution_count": 6,
   "id": "71fc10af",
   "metadata": {},
   "outputs": [],
   "source": [
    "def extract_hog(img):\n",
    "    gray = rgb2gray(img)\n",
    "    features, _ = hog(gray, orientations=9, pixels_per_cell=(16, 16),  # Increased cell size for faster processing\n",
    "                      cells_per_block=(2, 2), visualize=True, block_norm='L2-Hys')\n",
    "    return features"
   ]
  },
  {
   "cell_type": "code",
   "execution_count": null,
   "id": "6354594c",
   "metadata": {},
   "outputs": [
    {
     "name": "stdout",
     "output_type": "stream",
     "text": [
      "Loading and extracting features from images...\n",
      "Found 1056 images in class 'Beracun'\n",
      "Limiting Beracun class to 1000 images\n",
      "Processing Beracun images...\n",
      "  Progress: 0/1000 images processed\n",
      "  Progress: 100/1000 images processed\n",
      "  Progress: 200/1000 images processed\n",
      "  Progress: 300/1000 images processed\n",
      "  Progress: 400/1000 images processed\n",
      "  Progress: 500/1000 images processed\n",
      "  Progress: 600/1000 images processed\n",
      "  Progress: 700/1000 images processed\n",
      "  Progress: 800/1000 images processed\n",
      "  Progress: 900/1000 images processed\n"
     ]
    }
   ],
   "source": [
    "# Path ke dataset kamu\n",
    "base_dir = \"C:\\\\Perkuliahan\\\\Semester 4\\\\SNATIA\\\\Dataset6\"\n",
    "\n",
    "# Daftar nama folder / kelas\n",
    "classes = ['Beracun', 'Tidak Beracun']\n",
    "\n",
    "# List untuk data dan label\n",
    "data = []\n",
    "labels = []\n",
    "combined_features = []\n",
    "class_counts = {}\n",
    "\n",
    "# Loop semua folder dan gambar dengan simple progress tracking\n",
    "start_time = time.time()\n",
    "print(\"Loading and extracting features from images...\")\n",
    "\n",
    "for label in classes:\n",
    "    folder_path = os.path.join(base_dir, label)\n",
    "    image_files = [f for f in os.listdir(folder_path) if f.lower().endswith(('.png', '.jpg', '.jpeg'))]\n",
    "    original_count = len(image_files)\n",
    "    class_counts[label] = original_count\n",
    "    print(f\"Found {original_count} images in class '{label}'\")\n",
    "    \n",
    "    # Limit the number of images per class for faster training\n",
    "    max_images_per_class = 1000  # Adjust this number as needed\n",
    "    if len(image_files) > max_images_per_class:\n",
    "        import random\n",
    "        random.seed(42)  # For reproducibility\n",
    "        image_files = random.sample(image_files, max_images_per_class)\n",
    "        print(f\"Limiting {label} class to {max_images_per_class} images\")\n",
    "    \n",
    "    print(f\"Processing {label} images...\")\n",
    "    \n",
    "    for i, img_name in enumerate(image_files):\n",
    "        if i % 100 == 0:  # Show progress every 100 images\n",
    "            print(f\"  Progress: {i}/{len(image_files)} images processed\")\n",
    "            \n",
    "        img_path = os.path.join(folder_path, img_name)\n",
    "        img = cv2.imread(img_path)\n",
    "        if img is None:\n",
    "            continue\n",
    "        img = cv2.resize(img, (128, 128))\n",
    "\n",
    "        # Extract features\n",
    "        hist = extract_histogram(img)\n",
    "        glcm = extract_glcm(img)\n",
    "        hog_feat = extract_hog(img)\n",
    "\n",
    "        # Gabungkan semua fitur\n",
    "        features = np.hstack([hist, glcm, hog_feat])\n",
    "        combined_features.append(features)\n",
    "        labels.append(label)\n",
    "    \n",
    "    print(f\"Completed processing {len(image_files)} images for class '{label}'\")\n",
    "\n",
    "# Array final\n",
    "le = LabelEncoder()\n",
    "data = np.array(combined_features)\n",
    "labels = np.array(labels)\n",
    "labels_encoded = le.fit_transform(labels)\n",
    "\n",
    "# Display dataset information\n",
    "print(f\"\\nDataset Information:\")\n",
    "print(f\"Total dataset size: {len(data)} samples\")\n",
    "print(f\"Dataset sizes:\")\n",
    "for class_name, count in class_counts.items():\n",
    "    used_count = min(count, max_images_per_class) if count > max_images_per_class else count\n",
    "    final_count = np.sum(labels == class_name)\n",
    "    print(f\"  Class '{class_name}': {count} original images → {used_count} used → {final_count} final samples\")\n",
    "\n",
    "print(f\"Classes: {list(le.classes_)}\")\n",
    "print(f\"Feature vector length: {data.shape[1]}\")\n",
    "print(f\"Data loading and feature extraction completed in {time.time() - start_time:.2f} seconds\")\n",
    "\n",
    "\n",
    "# Normalize features for better performance\n",
    "print(\"\\nNormalizing features...\")\n",
    "scaler = StandardScaler()\n",
    "data_scaled = scaler.fit_transform(data)\n",
    "print(\"Feature normalization completed.\")\n",
    "\n",
    "# Lakukan PCA setelah scaling\n",
    "pca = PCA(n_components=0.95)  # atau tentukan jumlah komponen, misal: n_components=100\n",
    "data_pca = pca.fit_transform(data_scaled)\n",
    "\n",
    "print(f\"Shape sebelum PCA: {data_scaled.shape}\")\n",
    "print(f\"Shape sesudah PCA: {data_pca.shape}\")\n",
    "\n",
    "print(f\"\\nFinal dataset shape: {data_scaled.shape}\")"
   ]
  },
  {
   "cell_type": "code",
   "execution_count": null,
   "id": "ba0b35a0-847f-4c8c-911d-80fd23cb3a33",
   "metadata": {},
   "outputs": [
    {
     "name": "stdout",
     "output_type": "stream",
     "text": [
      "Training set: 1600\n",
      "Testing set: 400\n"
     ]
    }
   ],
   "source": [
    "X_train, X_test, y_train, y_test = train_test_split(data_pca, labels_encoded, \n",
    "                                                    test_size=0.2, random_state=42, stratify=labels_encoded)\n",
    "\n",
    "print(f\"Training set: {len(X_train)}\")\n",
    "print(f\"Testing set: {len(X_test)}\")"
   ]
  },
  {
   "cell_type": "code",
   "execution_count": null,
   "id": "bceb0c0d",
   "metadata": {},
   "outputs": [
    {
     "name": "stdout",
     "output_type": "stream",
     "text": [
      "\n",
      "🔍 Performing full hyperparameter tuning with GridSearchCV...\n",
      "Fitting 5 folds for each of 30 candidates, totalling 150 fits\n",
      "\n",
      "✅ Grid search selesai dalam 348.66 detik\n",
      "🏆 Parameter terbaik: {'C': 1, 'gamma': 0.001, 'kernel': 'rbf'}\n",
      "🎯 Akurasi cross-validation terbaik: 0.8000\n",
      "💾 Model terbaik disimpan di 'best_mushroom_classifier.joblib'\n"
     ]
    }
   ],
   "source": [
    "print(\"\\n🔍 Performing full hyperparameter tuning with GridSearchCV...\")\n",
    "start_time = time.time()\n",
    "\n",
    "# Parameter grid\n",
    "param_grid = [\n",
    "    {\n",
    "        'kernel': ['rbf'],\n",
    "        'C': [0.01, 0.1, 1, 10, 100, 1000],\n",
    "        'gamma': ['scale', 'auto', 0.001, 0.01, 0.1]\n",
    "    }\n",
    "]\n",
    "\n",
    "# Buat objek GridSearchCV\n",
    "grid_search = GridSearchCV(\n",
    "    estimator=svm.SVC(probability=True),\n",
    "    param_grid=param_grid,\n",
    "    cv=5,\n",
    "    scoring='accuracy',\n",
    "    n_jobs=-1,\n",
    "    verbose=1,  # Tidak pakai verbose bawaan, kita cetak manual nanti\n",
    "    return_train_score=True\n",
    ")\n",
    "\n",
    "# Latih semua kombinasi parameter\n",
    "grid_search.fit(X_train, y_train)\n",
    "\n",
    "# Ambil model dan parameter terbaik\n",
    "best_model = grid_search.best_estimator_\n",
    "best_params = grid_search.best_params_\n",
    "\n",
    "print(f\"\\n✅ Grid search selesai dalam {time.time() - start_time:.2f} detik\")\n",
    "print(f\"🏆 Parameter terbaik: {best_params}\")\n",
    "print(f\"🎯 Akurasi cross-validation terbaik: {grid_search.best_score_:.4f}\")\n",
    "\n",
    "# Simpan model terbaik\n",
    "joblib.dump(best_model, 'best_mushroom_classifier.joblib')\n",
    "print(\"💾 Model terbaik disimpan di 'best_mushroom_classifier.joblib'\")\n",
    "\n"
   ]
  },
  {
   "cell_type": "code",
   "execution_count": null,
   "id": "9fc27287-f285-475a-94ba-b0e7e23016dc",
   "metadata": {},
   "outputs": [
    {
     "name": "stdout",
     "output_type": "stream",
     "text": [
      "\n",
      "Test Accuracy: 83.75%\n",
      "\n",
      "Classification Report:\n",
      "               precision    recall  f1-score   support\n",
      "\n",
      "      Beracun       0.86      0.81      0.83       200\n",
      "Tidak Beracun       0.82      0.87      0.84       200\n",
      "\n",
      "     accuracy                           0.84       400\n",
      "    macro avg       0.84      0.84      0.84       400\n",
      " weighted avg       0.84      0.84      0.84       400\n",
      "\n"
     ]
    },
    {
     "data": {
      "image/png": "[encoded data removed]",
      "text/plain": [
       "<Figure size 800x600 with 2 Axes>"
      ]
     },
     "metadata": {},
     "output_type": "display_data"
    }
   ],
   "source": [
    "# Evaluate the best model\n",
    "y_pred = best_model.predict(X_test)\n",
    "y_pred_proba = best_model.predict_proba(X_test)\n",
    "\n",
    "# Calculate accuracy\n",
    "acc = accuracy_score(y_test, y_pred)\n",
    "print(f\"\\nTest Accuracy: {acc*100:.2f}%\")\n",
    "\n",
    "# Display classification report\n",
    "print(\"\\nClassification Report:\")\n",
    "print(classification_report(y_test, y_pred, target_names=le.classes_))\n",
    "\n",
    "# Confusion matrix\n",
    "cm = confusion_matrix(y_test, y_pred)\n",
    "\n",
    "# Plot confusion matrix\n",
    "plt.figure(figsize=(8, 6))\n",
    "sns.heatmap(cm, annot=True, fmt='d', cmap='Blues', xticklabels=le.classes_, yticklabels=le.classes_)\n",
    "plt.xlabel('Predicted')\n",
    "plt.ylabel('True')\n",
    "plt.title('Confusion Matrix')\n",
    "plt.show()\n",
    "\n"
   ]
  },
  {
   "cell_type": "code",
   "execution_count": null,
   "id": "fb587480",
   "metadata": {},
   "outputs": [
    {
     "name": "stdout",
     "output_type": "stream",
     "text": [
      "Gambar tidak ditemukan atau rusak.\n"
     ]
    }
   ],
   "source": [
    "# Function to predict on new images\n",
    "def predict_mushroom_type(image_path, model=best_model, scaler=scaler, pca=pca):\n",
    "    img = cv2.imread(image_path)\n",
    "    if img is None:\n",
    "        print(\"Gambar tidak ditemukan atau rusak.\")\n",
    "        return\n",
    "    \n",
    "    img = cv2.resize(img, (128, 128))\n",
    "    \n",
    "    # Extract features\n",
    "    hist = extract_histogram(img)\n",
    "    hog_feat = extract_hog(img)\n",
    "    \n",
    "    # Combine features - only using histogram and HOG features as in training\n",
    "    features = np.hstack([hist, hog_feat]).reshape(1, -1)\n",
    "    \n",
    "    # Scale features\n",
    "    features_scaled = scaler.transform(features)\n",
    "    \n",
    "    # Apply PCA transformation\n",
    "    features_pca = pca.transform(features_scaled)\n",
    "    \n",
    "    # Predict\n",
    "    pred = model.predict(features_pca)\n",
    "    pred_label = le.inverse_transform(pred)\n",
    "    \n",
    "    # Get probability\n",
    "    prob = model.predict_proba(features_pca)\n",
    "    \n",
    "    print(f\"Prediksi: {pred_label[0]} (Confidence: {np.max(prob)*100:.2f}%)\")\n",
    "\n",
    "    # Display image\n",
    "    img_rgb = cv2.cvtColor(img, cv2.COLOR_BGR2RGB)\n",
    "    plt.figure(figsize=(6, 6))\n",
    "    plt.imshow(img_rgb)\n",
    "    plt.title(f\"Prediction: {pred_label[0]}\")\n",
    "    plt.axis('off')\n",
    "    plt.show()\n",
    "    \n",
    "    return pred_label[0], np.max(prob)\n",
    "\n",
    "# Example usage - uncomment and modify path to test\n",
    "image_path = \"C:\\\\Perkuliahan\\\\Semester 4\\\\SNATIA\\\\Dataset3\\\\Beracun\\\\cv (9).jpeg\"\n",
    "predict_mushroom_type(image_path)"
   ]
  }
 ],
 "metadata": {
  "kernelspec": {
   "display_name": "Python 3",
   "language": "python",
   "name": "python3"
  },
  "language_info": {
   "codemirror_mode": {
    "name": "ipython",
    "version": 3
   },
   "file_extension": ".py",
   "mimetype": "text/x-python",
   "name": "python",
   "nbconvert_exporter": "python",
   "pygments_lexer": "ipython3",
   "version": "3.13.5"
  }
 },
 "nbformat": 4,
 "nbformat_minor": 5
}
