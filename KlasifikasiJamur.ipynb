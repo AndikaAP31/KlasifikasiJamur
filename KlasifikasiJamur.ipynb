{
 "cells": [
  {
   "cell_type": "code",
   "execution_count": 20,
   "id": "5364626e-14dc-481a-aa5b-af833373fda2",
   "metadata": {},
   "outputs": [],
   "source": [
    "import os\n",
    "import numpy as np\n",
    "import cv2\n",
    "from sklearn import svm\n",
    "from sklearn.model_selection import train_test_split, GridSearchCV\n",
    "from sklearn.preprocessing import LabelEncoder, StandardScaler\n",
    "from sklearn.metrics import accuracy_score, classification_report, confusion_matrix\n",
    "import matplotlib.pyplot as plt\n",
    "import seaborn as sns\n",
    "from skimage.feature import graycomatrix, graycoprops, hog\n",
    "from skimage.color import rgb2gray\n",
    "import time\n",
    "from sklearn.decomposition import PCA\n",
    "import time\n",
    "from sklearn import svm\n",
    "from sklearn.model_selection import GridSearchCV\n",
    "import joblib"
   ]
  },
  {
   "cell_type": "code",
   "execution_count": 21,
   "id": "d5a22f80",
   "metadata": {},
   "outputs": [],
   "source": [
    "def extract_glcm(img):\n",
    "    gray = cv2.cvtColor(img, cv2.COLOR_BGR2GRAY)\n",
    "    glcm = graycomatrix(gray, distances=[1], angles=[0], levels=256, symmetric=True, normed=True)\n",
    "    features = []\n",
    "    for prop in ['contrast', 'dissimilarity', 'homogeneity', 'energy', 'correlation', 'ASM']:\n",
    "        features.append(graycoprops(glcm, prop)[0, 0])\n",
    "    return np.array(features)"
   ]
  },
  {
   "cell_type": "code",
   "execution_count": 22,
   "id": "6354594c",
   "metadata": {},
   "outputs": [
    {
     "name": "stdout",
     "output_type": "stream",
     "text": [
      "Loading and extracting features from images...\n",
      "Found 1056 images in class 'Beracun'\n",
      "Limiting Beracun class to 1000 images\n",
      "Processing Beracun images...\n",
      "  Progress: 0/1000 images processed\n",
      "  Progress: 100/1000 images processed\n",
      "  Progress: 200/1000 images processed\n",
      "  Progress: 300/1000 images processed\n",
      "  Progress: 400/1000 images processed\n",
      "  Progress: 500/1000 images processed\n",
      "  Progress: 600/1000 images processed\n",
      "  Progress: 700/1000 images processed\n",
      "  Progress: 800/1000 images processed\n",
      "  Progress: 900/1000 images processed\n",
      "Completed processing 1000 images for class 'Beracun'\n",
      "Found 1200 images in class 'Tidak Beracun'\n",
      "Limiting Tidak Beracun class to 1000 images\n",
      "Processing Tidak Beracun images...\n",
      "  Progress: 0/1000 images processed\n",
      "  Progress: 100/1000 images processed\n",
      "  Progress: 200/1000 images processed\n",
      "  Progress: 300/1000 images processed\n",
      "  Progress: 400/1000 images processed\n",
      "  Progress: 500/1000 images processed\n",
      "  Progress: 600/1000 images processed\n",
      "  Progress: 700/1000 images processed\n",
      "  Progress: 800/1000 images processed\n",
      "  Progress: 900/1000 images processed\n",
      "Completed processing 1000 images for class 'Tidak Beracun'\n",
      "\n",
      "Normalizing features...\n",
      "Feature normalization completed.\n",
      "\n",
      "Final dataset shape: (2000, 6)\n"
     ]
    }
   ],
   "source": [
    "# Path ke dataset kamu\n",
    "base_dir = \"C:\\\\Projek GIthub\\\\KlasifikasiJamur\\\\Dataset6\"\n",
    "\n",
    "# Daftar nama folder / kelas\n",
    "classes = ['Beracun', 'Tidak Beracun']\n",
    "\n",
    "# List untuk data dan label\n",
    "data = []\n",
    "labels = []\n",
    "combined_features = []\n",
    "class_counts = {}\n",
    "\n",
    "# Loop semua folder dan gambar dengan simple progress tracking\n",
    "start_time = time.time()\n",
    "print(\"Loading and extracting features from images...\")\n",
    "\n",
    "for label in classes:\n",
    "    folder_path = os.path.join(base_dir, label)\n",
    "    image_files = [f for f in os.listdir(folder_path) if f.lower().endswith(('.png', '.jpg', '.jpeg'))]\n",
    "    original_count = len(image_files)\n",
    "    class_counts[label] = original_count\n",
    "    print(f\"Found {original_count} images in class '{label}'\")\n",
    "    \n",
    "    # Limit the number of images per class for faster training\n",
    "    max_images_per_class = 1000  # Adjust this number as needed\n",
    "    if len(image_files) > max_images_per_class:\n",
    "        import random\n",
    "        random.seed(42)  # For reproducibility\n",
    "        image_files = random.sample(image_files, max_images_per_class)\n",
    "        print(f\"Limiting {label} class to {max_images_per_class} images\")\n",
    "    \n",
    "    print(f\"Processing {label} images...\")\n",
    "    \n",
    "    for i, img_name in enumerate(image_files):\n",
    "        if i % 100 == 0:  # Show progress every 100 images\n",
    "            print(f\"  Progress: {i}/{len(image_files)} images processed\")\n",
    "            \n",
    "        img_path = os.path.join(folder_path, img_name)\n",
    "        img = cv2.imread(img_path)\n",
    "        if img is None:\n",
    "            continue\n",
    "        img = cv2.resize(img, (128, 128))\n",
    "\n",
    "        # Extract features\n",
    "        glcm = extract_glcm(img)\n",
    "     \n",
    "        features = glcm\n",
    "        combined_features.append(features)\n",
    "        labels.append(label)\n",
    "    \n",
    "    print(f\"Completed processing {len(image_files)} images for class '{label}'\")\n",
    "\n",
    "# Array final\n",
    "le = LabelEncoder()\n",
    "data = np.array(combined_features)\n",
    "labels = np.array(labels)\n",
    "labels_encoded = le.fit_transform(labels)\n",
    "\n",
    "# Display dataset information\n",
    "\n",
    "# Normalize features for better performance\n",
    "print(\"\\nNormalizing features...\")\n",
    "scaler = StandardScaler()\n",
    "data_scaled = scaler.fit_transform(data)\n",
    "print(\"Feature normalization completed.\")\n",
    "\n",
    "print(f\"\\nFinal dataset shape: {data_scaled.shape}\")"
   ]
  },
  {
   "cell_type": "code",
   "execution_count": 23,
   "id": "ba0b35a0-847f-4c8c-911d-80fd23cb3a33",
   "metadata": {},
   "outputs": [
    {
     "name": "stdout",
     "output_type": "stream",
     "text": [
      "Training set: 1600\n",
      "Testing set: 400\n"
     ]
    }
   ],
   "source": [
    "X_train, X_test, y_train, y_test = train_test_split(data_scaled, labels_encoded, \n",
    "                                                    test_size=0.2, random_state=42, stratify=labels_encoded)\n",
    "\n",
    "print(f\"Training set: {len(X_train)}\")\n",
    "print(f\"Testing set: {len(X_test)}\")"
   ]
  },
  {
   "cell_type": "code",
   "execution_count": 24,
   "id": "bceb0c0d",
   "metadata": {},
   "outputs": [
    {
     "name": "stdout",
     "output_type": "stream",
     "text": [
      "\n",
      "🔍 Performing full hyperparameter tuning with GridSearchCV...\n",
      "Fitting 5 folds for each of 1 candidates, totalling 5 fits\n",
      "\n",
      "✅ Grid search selesai dalam 5.43 detik\n",
      "🏆 Parameter terbaik: {'C': 1, 'gamma': 'scale', 'kernel': 'rbf'}\n",
      "🎯 Akurasi cross-validation terbaik: 0.5763\n",
      "💾 Model terbaik disimpan di 'best_mushroom_classifier.joblib'\n"
     ]
    }
   ],
   "source": [
    "print(\"\\n🔍 Performing full hyperparameter tuning with GridSearchCV...\")\n",
    "start_time = time.time()\n",
    "\n",
    "# Parameter grid\n",
    "param_grid = [\n",
    "    {\n",
    "        'kernel': ['rbf'],\n",
    "        'C': [1],\n",
    "        'gamma': ['scale']\n",
    "    }\n",
    "]\n",
    "\n",
    "# Buat objek GridSearchCV\n",
    "grid_search = GridSearchCV(\n",
    "    estimator=svm.SVC(probability=True),\n",
    "    param_grid=param_grid,\n",
    "    cv=5,\n",
    "    scoring='accuracy',\n",
    "    n_jobs=-1,\n",
    "    verbose=1,  # Tidak pakai verbose bawaan, kita cetak manual nanti\n",
    "    return_train_score=True\n",
    ")\n",
    "\n",
    "# Latih semua kombinasi parameter\n",
    "grid_search.fit(X_train, y_train)\n",
    "\n",
    "# Ambil model dan parameter terbaik\n",
    "best_model = grid_search.best_estimator_\n",
    "best_params = grid_search.best_params_\n",
    "\n",
    "print(f\"\\n✅ Grid search selesai dalam {time.time() - start_time:.2f} detik\")\n",
    "print(f\"🏆 Parameter terbaik: {best_params}\")\n",
    "print(f\"🎯 Akurasi cross-validation terbaik: {grid_search.best_score_:.4f}\")\n",
    "\n",
    "# Simpan model terbaik\n",
    "joblib.dump(best_model, 'best_mushroom_classifier.joblib')\n",
    "print(\"💾 Model terbaik disimpan di 'best_mushroom_classifier.joblib'\")\n",
    "\n"
   ]
  },
  {
   "cell_type": "code",
   "execution_count": 26,
   "id": "9fc27287-f285-475a-94ba-b0e7e23016dc",
   "metadata": {},
   "outputs": [
    {
     "name": "stdout",
     "output_type": "stream",
     "text": [
      "\n",
      "Test Accuracy: 61.25%\n",
      "\n",
      "Classification Report:\n",
      "               precision    recall  f1-score   support\n",
      "\n",
      "      Beracun       0.58      0.83      0.68       200\n",
      "Tidak Beracun       0.70      0.40      0.50       200\n",
      "\n",
      "     accuracy                           0.61       400\n",
      "    macro avg       0.64      0.61      0.59       400\n",
      " weighted avg       0.64      0.61      0.59       400\n",
      "\n"
     ]
    },
    {
     "data": {
      "image/png": "[encoded data removed]",
      "text/plain": [
       "<Figure size 800x600 with 2 Axes>"
      ]
     },
     "metadata": {},
     "output_type": "display_data"
    }
   ],
   "source": [
    "# Evaluate the best model\n",
    "y_pred = best_model.predict(X_test)\n",
    "y_pred_proba = best_model.predict_proba(X_test)\n",
    "\n",
    "# Calculate accuracy\n",
    "acc = accuracy_score(y_test, y_pred)\n",
    "print(f\"\\nTest Accuracy: {acc*100:.2f}%\")\n",
    "\n",
    "# Display classification report\n",
    "print(\"\\nClassification Report:\")\n",
    "print(classification_report(y_test, y_pred, target_names=le.classes_))\n",
    "\n",
    "# Confusion matrix\n",
    "cm = confusion_matrix(y_test, y_pred)\n",
    "\n",
    "# Plot confusion matrix\n",
    "plt.figure(figsize=(8, 6))\n",
    "sns.heatmap(cm, annot=True, fmt='d', cmap='Blues', xticklabels=le.classes_, yticklabels=le.classes_)\n",
    "plt.xlabel('Predicted')\n",
    "plt.ylabel('True')\n",
    "plt.title('Confusion Matrix')\n",
    "plt.show()\n",
    "\n"
   ]
  }
 ],
 "metadata": {
  "kernelspec": {
   "display_name": "Python 3",
   "language": "python",
   "name": "python3"
  },
  "language_info": {
   "codemirror_mode": {
    "name": "ipython",
    "version": 3
   },
   "file_extension": ".py",
   "mimetype": "text/x-python",
   "name": "python",
   "nbconvert_exporter": "python",
   "pygments_lexer": "ipython3",
   "version": "3.12.7"
  }
 },
 "nbformat": 4,
 "nbformat_minor": 5
}
